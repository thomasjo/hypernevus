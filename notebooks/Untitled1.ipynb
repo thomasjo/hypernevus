{
 "cells": [
  {
   "cell_type": "code",
   "execution_count": 1,
   "metadata": {},
   "outputs": [],
   "source": [
    "from pathlib import Path\n",
    "\n",
    "import joblib\n",
    "import matplotlib.pyplot as plt\n",
    "import numpy as np\n",
    "import sklearn.metrics.cluster as metrics\n",
    "\n",
    "from torch.utils.data import DataLoader\n",
    "\n",
    "from hypernevus.datasets import image_loader, prepare_dataset"
   ]
  },
  {
   "cell_type": "code",
   "execution_count": 2,
   "metadata": {},
   "outputs": [],
   "source": [
    "output_dir = Path(\"../output/2020-11-10-1653/\")\n",
    "assert output_dir.exists()\n",
    "assert len(list(output_dir.iterdir())) == 10"
   ]
  },
  {
   "cell_type": "code",
   "execution_count": 3,
   "metadata": {},
   "outputs": [],
   "source": [
    "def prepare_dataloader(data_dir):\n",
    "    dataset = prepare_dataset(data_dir, bands=slice(0, 115))\n",
    "    dataloader = DataLoader(dataset, shuffle=True, batch_size=256, num_workers=1)\n",
    "\n",
    "    return dataloader"
   ]
  },
  {
   "cell_type": "code",
   "execution_count": 4,
   "metadata": {},
   "outputs": [],
   "source": [
    "data_dir = Path(\"../data/patches/32/\")\n",
    "assert data_dir.exists()"
   ]
  },
  {
   "cell_type": "code",
   "execution_count": 5,
   "metadata": {},
   "outputs": [],
   "source": [
    "bands = slice(0, 115)\n",
    "load_image = image_loader(bands)\n",
    "\n",
    "def load_image_patches(prefix):\n",
    "    patches = []\n",
    "    labels = []\n",
    "    \n",
    "    for patch_file in sorted(list(data_dir.rglob(f\"{prefix}*.npy\"))):\n",
    "        patches.append(load_image(str(patch_file)))\n",
    "        labels.append(patch_file.stem.endswith(\"--roi\"))\n",
    "        \n",
    "    return patches, labels"
   ]
  },
  {
   "cell_type": "code",
   "execution_count": 14,
   "metadata": {},
   "outputs": [
    {
     "data": {
      "text/plain": [
       "<matplotlib.image.AxesImage at 0x7f36df8f6f70>"
      ]
     },
     "execution_count": 14,
     "metadata": {},
     "output_type": "execute_result"
    },
    {
     "data": {
      "image/png": "[encoded data removed]",
      "text/plain": [
       "<Figure size 432x288 with 1 Axes>"
      ]
     },
     "metadata": {
      "needs_background": "light"
     },
     "output_type": "display_data"
    }
   ],
   "source": [
    "patches, labels = load_image_patches(\"0aba91a\")\n",
    "\n",
    "patches = np.stack(patches).astype(np.double)\n",
    "\n",
    "plt.imshow(patches[0][..., 50])"
   ]
  },
  {
   "cell_type": "code",
   "execution_count": 10,
   "metadata": {},
   "outputs": [
    {
     "data": {
      "text/plain": [
       "[PosixPath('../output/2020-11-10-1653/run-01'),\n",
       " PosixPath('../output/2020-11-10-1653/run-02'),\n",
       " PosixPath('../output/2020-11-10-1653/run-03'),\n",
       " PosixPath('../output/2020-11-10-1653/run-04'),\n",
       " PosixPath('../output/2020-11-10-1653/run-05'),\n",
       " PosixPath('../output/2020-11-10-1653/run-06'),\n",
       " PosixPath('../output/2020-11-10-1653/run-07'),\n",
       " PosixPath('../output/2020-11-10-1653/run-08'),\n",
       " PosixPath('../output/2020-11-10-1653/run-09'),\n",
       " PosixPath('../output/2020-11-10-1653/run-10')]"
      ]
     },
     "execution_count": 10,
     "metadata": {},
     "output_type": "execute_result"
    }
   ],
   "source": [
    "run_dirs = sorted(list(output_dir.glob(\"run*/\")))\n",
    "run_dirs"
   ]
  },
  {
   "cell_type": "code",
   "execution_count": 45,
   "metadata": {},
   "outputs": [
    {
     "name": "stdout",
     "output_type": "stream",
     "text": [
      "run-01\n",
      "run-02\n",
      "1018\n",
      "6\n",
      "6\n",
      "1018\n",
      "run-03\n",
      "1018\n",
      "6\n",
      "6\n",
      "1018\n",
      "run-04\n",
      "1005\n",
      "19\n",
      "19\n",
      "1005\n",
      "run-05\n",
      "19\n",
      "1005\n",
      "1005\n",
      "19\n",
      "run-06\n",
      "37\n",
      "987\n",
      "987\n",
      "37\n",
      "run-07\n",
      "66\n",
      "958\n",
      "958\n",
      "66\n",
      "run-08\n",
      "1013\n",
      "11\n",
      "11\n",
      "1013\n",
      "run-09\n",
      "15\n",
      "1009\n",
      "1009\n",
      "15\n",
      "run-10\n",
      "36\n",
      "988\n",
      "988\n",
      "36\n"
     ]
    }
   ],
   "source": [
    "from itertools import combinations, permutations\n",
    "from sklearn.metrics import accuracy_score\n",
    "\n",
    "all_labels = []\n",
    "\n",
    "for run_dir in run_dirs:\n",
    "    print(run_dir.stem)\n",
    "    km = joblib.load(run_dir / \"kmeans.joblib\")\n",
    "    labels = km.predict(patches.reshape((-1, 115 * 32 * 32)))\n",
    "    \n",
    "    if len(all_labels) > 0:\n",
    "        prev = all_labels[-1]\n",
    "        \n",
    "        for i in range(2):\n",
    "            for j in range(2):\n",
    "                print(np.sum(np.equal(labels == i, prev == j)))\n",
    "        \n",
    "        \n",
    "    all_labels.append(labels)"
   ]
  }
 ],
 "metadata": {
  "kernelspec": {
   "display_name": "Python 3",
   "language": "python",
   "name": "python3"
  },
  "language_info": {
   "codemirror_mode": {
    "name": "ipython",
    "version": 3
   },
   "file_extension": ".py",
   "mimetype": "text/x-python",
   "name": "python",
   "nbconvert_exporter": "python",
   "pygments_lexer": "ipython3",
   "version": "3.8.6"
  }
 },
 "nbformat": 4,
 "nbformat_minor": 4
}
